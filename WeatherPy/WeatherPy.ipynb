{
 "cells": [
  {
   "cell_type": "code",
   "execution_count": 60,
   "metadata": {},
   "outputs": [],
   "source": [
    "import numpy as np\n",
    "import pandas as pd\n",
    "import matplotlib.pyplot as plt\n",
    "\n",
    "import json\n",
    "import requests\n",
    "from pprint import pprint\n",
    "\n",
    "api_key = \"221ed197cb04a8ffb82673bfdf56ce5b\"\n",
    "\n",
    "\n",
    "# Save config information\n",
    "url = \"http://api.openweathermap.org/data/2.5/weather?\"\n",
    "city = \"Princeton\"\n",
    "unit = \"imperial\"\n",
    "\n",
    "\n",
    "# Build query URL\n",
    "query_url = url + \"appid=\" + api_key +\"&q=\" + city "
   ]
  },
  {
   "cell_type": "code",
   "execution_count": 61,
   "metadata": {},
   "outputs": [],
   "source": [
    "# experiment with API to learn structure - full string from Postman\n",
    "query_url = \"http://api.openweathermap.org/data/2.5/weather?units=metric&appid=221ed197cb04a8ffb82673bfdf56ce5b&q=New York\""
   ]
  },
  {
   "cell_type": "code",
   "execution_count": 64,
   "metadata": {},
   "outputs": [
    {
     "name": "stdout",
     "output_type": "stream",
     "text": [
      "http://api.openweathermap.org/data/2.5/weather?units=imperial&appid=221ed197cb04a8ffb82673bfdf56ce5b&q=Princeton\n"
     ]
    }
   ],
   "source": [
    "# problematic for two word cities (e.g. New York)\n",
    "query_url = f\"{url}units={unit}&appid={api_key}&q={city}\"\n",
    "print(query_url)"
   ]
  },
  {
   "cell_type": "code",
   "execution_count": 65,
   "metadata": {},
   "outputs": [
    {
     "name": "stdout",
     "output_type": "stream",
     "text": [
      "The weather API responded with: {'coord': {'lon': -74.66, 'lat': 40.35}, 'weather': [{'id': 804, 'main': 'Clouds', 'description': 'overcast clouds', 'icon': '04d'}], 'base': 'stations', 'main': {'temp': 39.85, 'feels_like': 23.86, 'temp_min': 37, 'temp_max': 43, 'pressure': 1012, 'humidity': 44}, 'visibility': 16093, 'wind': {'speed': 19.46, 'deg': 340, 'gust': 32.21}, 'clouds': {'all': 90}, 'dt': 1578242454, 'sys': {'type': 1, 'id': 4686, 'country': 'US', 'sunrise': 1578226900, 'sunset': 1578260738}, 'timezone': -18000, 'id': 5102922, 'name': 'Princeton', 'cod': 200}.\n"
     ]
    }
   ],
   "source": [
    "# Get weather data\n",
    "weather_response = requests.get(query_url)\n",
    "weather_json = weather_response.json()\n",
    "\n",
    "# Get the temperature from the response\n",
    "print(f\"The weather API responded with: {weather_json}.\")"
   ]
  },
  {
   "cell_type": "code",
   "execution_count": 66,
   "metadata": {},
   "outputs": [
    {
     "name": "stdout",
     "output_type": "stream",
     "text": [
      "The weather API responded with: <Response [200]>\n",
      "{'base': 'stations',\n",
      " 'clouds': {'all': 90},\n",
      " 'cod': 200,\n",
      " 'coord': {'lat': 40.35, 'lon': -74.66},\n",
      " 'dt': 1578242454,\n",
      " 'id': 5102922,\n",
      " 'main': {'feels_like': 23.86,\n",
      "          'humidity': 44,\n",
      "          'pressure': 1012,\n",
      "          'temp': 39.85,\n",
      "          'temp_max': 43,\n",
      "          'temp_min': 37},\n",
      " 'name': 'Princeton',\n",
      " 'sys': {'country': 'US',\n",
      "         'id': 4686,\n",
      "         'sunrise': 1578226900,\n",
      "         'sunset': 1578260738,\n",
      "         'type': 1},\n",
      " 'timezone': -18000,\n",
      " 'visibility': 16093,\n",
      " 'weather': [{'description': 'overcast clouds',\n",
      "              'icon': '04d',\n",
      "              'id': 804,\n",
      "              'main': 'Clouds'}],\n",
      " 'wind': {'deg': 340, 'gust': 32.21, 'speed': 19.46}}\n"
     ]
    }
   ],
   "source": [
    "print(f\"The weather API responded with: {weather_response}\")\n",
    "\n",
    "pprint(weather_json)"
   ]
  },
  {
   "cell_type": "code",
   "execution_count": 77,
   "metadata": {},
   "outputs": [],
   "source": [
    "# practice extracting relevant info\n",
    "# want temp (F) vs lat, humidity vs lat, cloudiness vs lat, wind speed (mph) vs lat\n",
    "\n",
    "# will want to append all of these into lists\n",
    "\n",
    "city = weather_json[\"name\"]\n",
    "lat = weather_json[\"coord\"][\"lat\"]\n",
    "\n",
    "temp = weather_json[\"main\"][\"temp\"]\n",
    "humidity = weather_json[\"main\"][\"humidity\"]\n",
    "wind = weather_json[\"wind\"][\"speed\"]\n",
    "clouds = weather_json[\"clouds\"][\"all\"]\n",
    "\n"
   ]
  },
  {
   "cell_type": "code",
   "execution_count": 78,
   "metadata": {},
   "outputs": [],
   "source": [
    "from citipy import citipy"
   ]
  },
  {
   "cell_type": "code",
   "execution_count": 82,
   "metadata": {},
   "outputs": [
    {
     "data": {
      "text/plain": [
       "'us'"
      ]
     },
     "execution_count": 82,
     "metadata": {},
     "output_type": "execute_result"
    }
   ],
   "source": [
    "city = citipy.nearest_city(40.35,-74.66)\n",
    "city.city_name\n",
    "city.country_code"
   ]
  },
  {
   "cell_type": "code",
   "execution_count": 134,
   "metadata": {},
   "outputs": [
    {
     "name": "stdout",
     "output_type": "stream",
     "text": [
      "11.33,-172.1\n"
     ]
    }
   ],
   "source": [
    "## Pseudo Code ##\n",
    "\n",
    "# randomly generate two numbers\n",
    "# try citypy to see if it is a city with population >500\n",
    "# make api call\n",
    "    # append lists with temp, humidity, etc. data. also append lists with city/country, lat/long data\n",
    "    # repeat for 500 cities - probably need a counter bc we don't know how many times the try block will fail\n",
    "    \n",
    "    \n",
    "# latitude ranges from +/- 90\n",
    "# longitude ranges from +/- 180\n",
    "\n",
    "lat = np.random.randint(-90, 90) + np.round(np.random.random_sample(),2)\n",
    "long = np.random.randint(-180,180) + np.round(np.random.random_sample(),2)\n",
    "\n",
    "print(f\"{lat},{long}\")"
   ]
  },
  {
   "cell_type": "code",
   "execution_count": 135,
   "metadata": {},
   "outputs": [
    {
     "name": "stdout",
     "output_type": "stream",
     "text": [
      "kapaa\n",
      "us\n"
     ]
    }
   ],
   "source": [
    "try:\n",
    "    city = citipy.nearest_city(lat,long)\n",
    "    print(city.city_name)\n",
    "    print(city.country_code)\n",
    "    # increment counter here\n",
    "    # append lists here\n",
    "except:\n",
    "    print(\"Not a city with population greater than 500\")\n",
    "    "
   ]
  },
  {
   "cell_type": "code",
   "execution_count": 141,
   "metadata": {},
   "outputs": [
    {
     "name": "stdout",
     "output_type": "stream",
     "text": [
      "http://api.openweathermap.org/data/2.5/weather?lat=11.33&lon=-172.1&units=imperial&appid=221ed197cb04a8ffb82673bfdf56ce5b\n"
     ]
    }
   ],
   "source": [
    "# let's try an API call with this random city - calling lat/long will remove two name city problem\n",
    "query_url = f\"{url}lat={lat}&lon={long}&units={unit}&appid={api_key}\"\n",
    "print(query_url)"
   ]
  },
  {
   "cell_type": "code",
   "execution_count": 142,
   "metadata": {},
   "outputs": [],
   "source": [
    "weather_requests = requests.get(query_url)\n",
    "weather_json = weather_requests.json()"
   ]
  },
  {
   "cell_type": "code",
   "execution_count": 143,
   "metadata": {},
   "outputs": [
    {
     "name": "stdout",
     "output_type": "stream",
     "text": [
      "{'base': 'model',\n",
      " 'clouds': {'all': 63},\n",
      " 'cod': 200,\n",
      " 'coord': {'lat': 11.33, 'lon': -172.1},\n",
      " 'dt': 1578244031,\n",
      " 'id': 0,\n",
      " 'main': {'feels_like': 73.89,\n",
      "          'grnd_level': 1013,\n",
      "          'humidity': 77,\n",
      "          'pressure': 1013,\n",
      "          'sea_level': 1013,\n",
      "          'temp': 80.91,\n",
      "          'temp_max': 80.91,\n",
      "          'temp_min': 80.91},\n",
      " 'name': '',\n",
      " 'rain': {'3h': 0.19},\n",
      " 'sys': {'sunrise': 1578246541, 'sunset': 1578287884},\n",
      " 'timezone': -39600,\n",
      " 'weather': [{'description': 'light rain',\n",
      "              'icon': '10n',\n",
      "              'id': 500,\n",
      "              'main': 'Rain'}],\n",
      " 'wind': {'deg': 60, 'speed': 28.83}}\n"
     ]
    }
   ],
   "source": [
    "pprint(weather_json)"
   ]
  },
  {
   "cell_type": "code",
   "execution_count": 160,
   "metadata": {},
   "outputs": [],
   "source": [
    "# preallocate lists for temp, humidity, etc.\n",
    "cities = []\n",
    "countries = []\n",
    "temperature = []\n",
    "humidity = []\n",
    "wind_speed = []\n",
    "cloud_percentage = []\n",
    "latitude = []\n",
    "longitude = []\n",
    "\n",
    "# preallocate counter for while loop\n",
    "counter = 0\n",
    "while counter < 500:\n",
    "    # randomly generate some latitude and longitude values\n",
    "    # by randomly selecting an integer in lat/long range and \n",
    "    # appending random two decimal points\n",
    "    lat = np.random.randint(-90, 90) + np.round(np.random.random_sample(),2)\n",
    "    long = np.random.randint(-180,180) + np.round(np.random.random_sample(),2)\n",
    "    \n",
    "    # put code in try/except block because it is possible that randomly generated\n",
    "    # lat/long coords are not a city (e.g. in an ocean) or have less than 500 people\n",
    "    try:\n",
    "        # get city name from citipy - if this fails, then the city does not exist\n",
    "        city = citipy.nearest_city(lat,long)\n",
    "        \n",
    "        # create query url with lat/long, imperial units, and API key\n",
    "        query_url = f\"{url}lat={lat}&lon={long}&units={unit}&appid={api_key}\"\n",
    "        \n",
    "        # make API request\n",
    "        weather_requests = requests.get(query_url)\n",
    "        weather_json = weather_requests.json()\n",
    "        \n",
    "        # extract data from json for this city\n",
    "        temp = weather_json[\"main\"][\"temp\"]\n",
    "        humid = weather_json[\"main\"][\"humidity\"]\n",
    "        wind = weather_json[\"wind\"][\"speed\"]\n",
    "        clouds = weather_json[\"clouds\"][\"all\"]\n",
    "        \n",
    "        # store data into lists\n",
    "        cities.append(city.city_name)\n",
    "        countries.append(city.country_code)\n",
    "        \n",
    "        temperature.append(temp)\n",
    "        humidity.append(humid)\n",
    "        wind_speed.append(wind)\n",
    "        cloud_percentage.append(clouds)\n",
    "        \n",
    "        latitude.append(lat)\n",
    "        longitude.append(long)\n",
    "        \n",
    "        # iterate counter for while loop\n",
    "        counter += 1\n",
    "    except: \n",
    "        print(\"error - city does not exist or population is less than 500\")\n",
    "    \n",
    "    \n",
    "    "
   ]
  },
  {
   "cell_type": "code",
   "execution_count": 161,
   "metadata": {},
   "outputs": [
    {
     "data": {
      "text/html": [
       "<div>\n",
       "<style scoped>\n",
       "    .dataframe tbody tr th:only-of-type {\n",
       "        vertical-align: middle;\n",
       "    }\n",
       "\n",
       "    .dataframe tbody tr th {\n",
       "        vertical-align: top;\n",
       "    }\n",
       "\n",
       "    .dataframe thead th {\n",
       "        text-align: right;\n",
       "    }\n",
       "</style>\n",
       "<table border=\"1\" class=\"dataframe\">\n",
       "  <thead>\n",
       "    <tr style=\"text-align: right;\">\n",
       "      <th></th>\n",
       "      <th>City</th>\n",
       "      <th>Country</th>\n",
       "      <th>Latitude</th>\n",
       "      <th>Longitude</th>\n",
       "      <th>Temperature</th>\n",
       "      <th>Humidity</th>\n",
       "      <th>Cloudiness</th>\n",
       "      <th>Wind</th>\n",
       "    </tr>\n",
       "  </thead>\n",
       "  <tbody>\n",
       "    <tr>\n",
       "      <th>0</th>\n",
       "      <td>praia da vitoria</td>\n",
       "      <td>pt</td>\n",
       "      <td>40.63</td>\n",
       "      <td>-26.51</td>\n",
       "      <td>62.15</td>\n",
       "      <td>90</td>\n",
       "      <td>100</td>\n",
       "      <td>23.17</td>\n",
       "    </tr>\n",
       "    <tr>\n",
       "      <th>1</th>\n",
       "      <td>berlevag</td>\n",
       "      <td>no</td>\n",
       "      <td>74.66</td>\n",
       "      <td>29.48</td>\n",
       "      <td>19.74</td>\n",
       "      <td>75</td>\n",
       "      <td>100</td>\n",
       "      <td>18.03</td>\n",
       "    </tr>\n",
       "    <tr>\n",
       "      <th>2</th>\n",
       "      <td>rikitea</td>\n",
       "      <td>pf</td>\n",
       "      <td>-23.98</td>\n",
       "      <td>-123.77</td>\n",
       "      <td>74.17</td>\n",
       "      <td>68</td>\n",
       "      <td>98</td>\n",
       "      <td>14.56</td>\n",
       "    </tr>\n",
       "    <tr>\n",
       "      <th>3</th>\n",
       "      <td>ranot</td>\n",
       "      <td>th</td>\n",
       "      <td>8.03</td>\n",
       "      <td>100.80</td>\n",
       "      <td>79.99</td>\n",
       "      <td>82</td>\n",
       "      <td>77</td>\n",
       "      <td>13.91</td>\n",
       "    </tr>\n",
       "    <tr>\n",
       "      <th>4</th>\n",
       "      <td>atuona</td>\n",
       "      <td>pf</td>\n",
       "      <td>-4.08</td>\n",
       "      <td>-121.40</td>\n",
       "      <td>76.55</td>\n",
       "      <td>81</td>\n",
       "      <td>65</td>\n",
       "      <td>15.84</td>\n",
       "    </tr>\n",
       "  </tbody>\n",
       "</table>\n",
       "</div>"
      ],
      "text/plain": [
       "               City Country  Latitude  Longitude  Temperature  Humidity  \\\n",
       "0  praia da vitoria      pt     40.63     -26.51        62.15        90   \n",
       "1          berlevag      no     74.66      29.48        19.74        75   \n",
       "2           rikitea      pf    -23.98    -123.77        74.17        68   \n",
       "3             ranot      th      8.03     100.80        79.99        82   \n",
       "4            atuona      pf     -4.08    -121.40        76.55        81   \n",
       "\n",
       "   Cloudiness   Wind  \n",
       "0         100  23.17  \n",
       "1         100  18.03  \n",
       "2          98  14.56  \n",
       "3          77  13.91  \n",
       "4          65  15.84  "
      ]
     },
     "execution_count": 161,
     "metadata": {},
     "output_type": "execute_result"
    }
   ],
   "source": [
    "# create dataframe to hold all this data\n",
    "df = pd.DataFrame({\"City\": cities, \"Country\": countries, \"Latitude\": latitude, \"Longitude\": longitude,\n",
    "                   \"Temperature\": temperature,\"Humidity\": humidity, \"Cloudiness\": cloud_percentage, \n",
    "                   \"Wind\": wind_speed})\n",
    "\n",
    "# save df - so we don't have to make future API calls\n",
    "df.to_csv(\"Weather_data.csv\",index=False)\n",
    "df.head()"
   ]
  },
  {
   "cell_type": "markdown",
   "metadata": {},
   "source": [
    "## Latitude VS Temperature"
   ]
  },
  {
   "cell_type": "code",
   "execution_count": 171,
   "metadata": {},
   "outputs": [
    {
     "data": {
      "image/png": "[encoded data removed]",
      "text/plain": [
       "<Figure size 432x288 with 1 Axes>"
      ]
     },
     "metadata": {
      "needs_background": "light"
     },
     "output_type": "display_data"
    }
   ],
   "source": [
    "plt.figure()\n",
    "plt.scatter(list(df[\"Latitude\"]), list(df[\"Temperature\"]))\n",
    "plt.show()"
   ]
  },
  {
   "cell_type": "markdown",
   "metadata": {},
   "source": [
    "## Latitude VS Humidity"
   ]
  },
  {
   "cell_type": "code",
   "execution_count": 172,
   "metadata": {},
   "outputs": [
    {
     "data": {
      "image/png": "[encoded data removed]",
      "text/plain": [
       "<Figure size 432x288 with 1 Axes>"
      ]
     },
     "metadata": {
      "needs_background": "light"
     },
     "output_type": "display_data"
    }
   ],
   "source": [
    "plt.figure()\n",
    "plt.scatter(list(df[\"Latitude\"]), list(df[\"Humidity\"]))\n",
    "plt.show()"
   ]
  },
  {
   "cell_type": "markdown",
   "metadata": {},
   "source": [
    "## Latitude VS Wind Speed"
   ]
  },
  {
   "cell_type": "code",
   "execution_count": 173,
   "metadata": {},
   "outputs": [
    {
     "data": {
      "image/png": "[encoded data removed]",
      "text/plain": [
       "<Figure size 432x288 with 1 Axes>"
      ]
     },
     "metadata": {
      "needs_background": "light"
     },
     "output_type": "display_data"
    }
   ],
   "source": [
    "plt.figure()\n",
    "plt.scatter(list(df[\"Latitude\"]), list(df[\"Wind\"]))\n",
    "plt.show()"
   ]
  },
  {
   "cell_type": "markdown",
   "metadata": {},
   "source": [
    "## Latitude VS Cloudiness"
   ]
  },
  {
   "cell_type": "code",
   "execution_count": 174,
   "metadata": {},
   "outputs": [
    {
     "data": {
      "image/png": "[encoded data removed]",
      "text/plain": [
       "<Figure size 432x288 with 1 Axes>"
      ]
     },
     "metadata": {
      "needs_background": "light"
     },
     "output_type": "display_data"
    }
   ],
   "source": [
    "plt.figure()\n",
    "plt.scatter(list(df[\"Latitude\"]), list(df[\"Cloudiness\"]))\n",
    "plt.show()"
   ]
  },
  {
   "cell_type": "code",
   "execution_count": null,
   "metadata": {},
   "outputs": [],
   "source": []
  }
 ],
 "metadata": {
  "kernelspec": {
   "display_name": "Python 3",
   "language": "python",
   "name": "python3"
  },
  "language_info": {
   "codemirror_mode": {
    "name": "ipython",
    "version": 3
   },
   "file_extension": ".py",
   "mimetype": "text/x-python",
   "name": "python",
   "nbconvert_exporter": "python",
   "pygments_lexer": "ipython3",
   "version": "3.7.3"
  }
 },
 "nbformat": 4,
 "nbformat_minor": 2
}
